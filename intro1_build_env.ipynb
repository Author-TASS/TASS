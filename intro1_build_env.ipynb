{
 "cells": [
  {
   "cell_type": "markdown",
   "metadata": {},
   "source": [
    "# Build Environment\n",
    "This is a introduction of building environment quickly. The micro traffic simulation mainly includes the following elements:\n",
    "\n",
    "- Road attributes. The basic network structure of the road, the allowed and limited direction, the types of vehicles that are allowed to pass, etc.\n",
    "- Vehicle attributes. Vehicle type, route planning, travel time, the driving preference and proficiency of the driver, etc., which are mainly described by the dynamic model of the vehicle.\n",
    "- Interaction between vehicles. The driving behavior of vehicles during operation is not only affected by road conditions and route planning, but also by other vehicles, resulting in various traffic phenomena, such as traffic anomalies and traffic congestion.\n",
    "- Other elements. Traffic lights, detectors, subways or other public transportation platforms, etc.\n",
    "\n",
    "The input content that TASS needs to prepare in advance includes the above content."
   ]
  },
  {
   "cell_type": "markdown",
   "metadata": {},
   "source": [
    "## SUMO\n",
    "The simulation tool SUMO is the basic environment for this series of codes, which needs to be installed and configured in advance. Download and installation reference: https://sumo.dlr.de/docs/Downloads.php."
   ]
  },
  {
   "cell_type": "markdown",
   "metadata": {},
   "source": [
    "## Generate traffic network\n",
    "There are several ways to generate the traffic network:\n",
    "\n",
    "1. Import from outside source. Netconvert can format the network structure of other simulators (such as MATSim and Vissim) and road network data sources (such as OpenStreetMap-OSM, OpenDRIVE, Shapefile) to generate corresponding road network files.\n",
    "\n",
    "2. Graphical interface editing. SUMO provides Netedit, a graphical network editor that can be used to create, analyze and edit network files. This helps to complement the generation network with manual optimizations, and also supports defining other infrastructure that Netconvert cannot import.\n",
    "\n",
    "3. Source code editing. The network file is finally stored in the form of an xml file, and the traffic network can be directly modified by directly editing the code blocks that describe the road, such as nodes and edges."
   ]
  },
  {
   "cell_type": "code",
   "execution_count": null,
   "metadata": {},
   "outputs": [],
   "source": [
    "# A quickly build: OpenStreetMap provides most areas of the current mainstream satellite maps.\n",
    "python \"%SUMO_HOME%\\tools\\osmWebWizard.py\"\n",
    "# Run the osmWebWizard script to automatically enter the road network to crawl the webpage.\n",
    "# The road network file is saved in the script running path by default, such as the folder of \"2016-09-30-10-00-00\"\n",
    "###### Some parameters:\n",
    "# Through Traffic Factor = \"Number of vehicles generated from outside the area\" / \"Number of vehicles generated from within the area\"\n",
    "# Count represents the frequency of vehicle generation, unit: vehicle/hour/lane-kilometer"
   ]
  },
  {
   "cell_type": "markdown",
   "metadata": {},
   "source": [
    "After the road network is generated, osmWebWizard.py will automatically run the build.bat script in the generated folder to generate osm.passenger.trips.xml (OD describing the driving of the vehicle). build.bat will be generated based on Through Traffic Factor and Count.\n",
    "  \n",
    "Note: If you need to modify the Through Traffic Factor and Count and regenerate the trips file, you can directly modify the corresponding configuration parameters in build.bat and run build.bat."
   ]
  },
  {
   "cell_type": "markdown",
   "metadata": {},
   "source": [
    "## Test Simulation\n",
    "1. Run <SUMO_HOME>/bin/sumo-gui.exe\n",
    "2. Click File -> Open Simulation and select the corresponding osm.sumocfg file\n",
    "3. Click the green arrow to start the simulation"
   ]
  },
  {
   "cell_type": "code",
   "execution_count": null,
   "metadata": {},
   "outputs": [],
   "source": [
    "##################################\n",
    "# set parameters\n",
    "##################################\n",
    "# simualtion file path\n",
    "folder = '../bigger demo# with sensor/'\n",
    "\n",
    "import traci\n",
    "sumoBinary = \"sumo-gui\"\n",
    "sumoCmd = [sumoBinary, \"-c\", folder + \"osm.sumocfg\"]\n",
    "traci.start(sumoCmd)  # Execute sumo-gui on the command line to start the simulation\n",
    "\n",
    "step = 0\n",
    "while step < 1000:\n",
    "    traci.simulationStep()\n",
    "    ##################################\n",
    "    # modify the parameters in your simulation\n",
    "    ##################################\n",
    "    step += 1\n",
    "\n",
    "traci.close()"
   ]
  }
 ],
 "metadata": {
  "kernelspec": {
   "display_name": "Python 3",
   "language": "python",
   "name": "python3"
  },
  "language_info": {
   "codemirror_mode": {
    "name": "ipython",
    "version": 3
   },
   "file_extension": ".py",
   "mimetype": "text/x-python",
   "name": "python",
   "nbconvert_exporter": "python",
   "pygments_lexer": "ipython3",
   "version": "3.7.5"
  },
  "toc": {
   "base_numbering": 1,
   "nav_menu": {},
   "number_sections": true,
   "sideBar": true,
   "skip_h1_title": false,
   "title_cell": "Table of Contents",
   "title_sidebar": "Contents",
   "toc_cell": false,
   "toc_position": {},
   "toc_section_display": true,
   "toc_window_display": true
  }
 },
 "nbformat": 4,
 "nbformat_minor": 2
}
