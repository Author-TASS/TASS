{
 "cells": [
  {
   "cell_type": "markdown",
   "metadata": {},
   "source": [
    "# Simulation control\n",
    "By intervening in the simulation process through Traci script, TASS can realize fixed-point timing injection of abnormal situation. Urban traffic anomalies are mainly divided into three categories:\n",
    "\n",
    "- Abnormal state of lanes or edges. Lanes or edges cannot meet the normal traffic needs of vehicles and pedestrians. For example, traffic accidents, vehicle lane changes, traffic control and other abnormal driving behaviors cause lane blockages, resulting in lane prohibition. The maximum travel speed for fixed lanes can be set to 0 via Traci in TASS.\n",
    "- Abnormal traffic facilities. For example, the traffic light is damaged or the alternating cycle of the traffic light is abnormal. The Traffic Lights States(TLS) can be modified after specifying the number of simulation steps during the simulation. After recovery, the TLS can be changed to the normal state.\n",
    "- Abnormal driving state of vehicles. It is generally reflected in the abnormal increase of pedestrians and vehicles caused by extreme weather, peak travel period or road control, and the speed of vehicles is lower than that in the free state. The maximum driving speed of the lanes in the area can be reduced as required by Traci."
   ]
  },
  {
   "cell_type": "markdown",
   "metadata": {},
   "source": [
    "## Manual control\n",
    "After using sumo-gui.exe to start the simulation, right-click in the simulation process, modify lane\\edge status, traffic lights, and other traffic elements. For example, right-click the lane and select Close lane or Close edge."
   ]
  },
  {
   "cell_type": "markdown",
   "metadata": {},
   "source": [
    "## Script simulation\n",
    "Using Traci can modify\\add\\remove traffic elements at specific time and specific location.\n",
    "This is a Traci example, in which the lane/edge status is changed during simulation."
   ]
  },
  {
   "cell_type": "code",
   "execution_count": null,
   "metadata": {},
   "outputs": [],
   "source": [
    "##################################\n",
    "# configuration parameters\n",
    "##################################\n",
    "# Simulation file path\n",
    "folder = '../bigger demo# with sensor v2/'"
   ]
  },
  {
   "cell_type": "code",
   "execution_count": null,
   "metadata": {},
   "outputs": [],
   "source": [
    "import traci\n",
    "sumoBinary = \"sumo-gui\"\n",
    "sumoCmd = [sumoBinary, \"-c\", folder + \"osm.sumocfg\"]\n",
    "try:\n",
    "    traci.close() # Ensure that the last traci connection was closed normally\n",
    "except Exception:\n",
    "    pass\n",
    "traci.start(sumoCmd)  # Execute sumo-gui from the command line to start the simulation\n",
    "\n",
    "step = 0\n",
    "while traci.simulation.getMinExpectedNumber() > 0:\n",
    "    traci.simulationStep()\n",
    "#    if step == 10:\n",
    "        # After 10s, set the maximum speed limit of road in1 to 3m/s\n",
    "#         traci.edge.setMaxSpeed(edgeID='in1', speed=3) # m/s\n",
    "#     traci.edge.setMaxSpeed(edgeID='-4611696#3', speed=3) # m/s\n",
    "#     traci.edge.setMaxSpeed(edgeID='54781811#0', speed=3) # m/s\n",
    "#     traci.edge.setMaxSpeed(edgeID='-66071370', speed=3) # m/s\n",
    "#     traci.edge.setMaxSpeed(edgeID='4773029#0', speed=3) # m/s\n",
    "#     traci.edge.setMaxSpeed(edgeID='-4611706#1', speed=3) # m/s\n",
    "#     traci.edge.setMaxSpeed(edgeID='243854725#0', speed=3) # m/s\n",
    "#     traci.edge.setMaxSpeed(edgeID='196850609#0', speed=3) # m/s    \n",
    "    step += 1\n",
    "\n",
    "traci.close()"
   ]
  },
  {
   "cell_type": "code",
   "execution_count": null,
   "metadata": {},
   "outputs": [],
   "source": [
    "# Some basic control\n",
    "\n",
    "# while step <= 3600:\n",
    "    # Attempt to inject lane faults, i.e. reduce the number of lane vehicles on the specified edge\n",
    "    # if step == start_time:\n",
    "    #     tmp1 = traci.lane.getMaxSpeed('121100409#3_0')\n",
    "    #     tmp2 = traci.lane.getMaxSpeed('146451493#1_0')\n",
    "    #     traci.edge.setMaxSpeed('121100409#3', 0)\n",
    "    #     traci.edge.setMaxSpeed('146451493#1', 0)\n",
    "        \n",
    "    # if step == end_time:\n",
    "    #     traci.edge.setMaxSpeed('121100409#3', tmp1)\n",
    "    #     traci.edge.setMaxSpeed('146451493#1', tmp2)\n",
    "    \n",
    "    # Traffic light failure\n",
    "    # if step >= 600 and step <= 1800:\n",
    "    #     traci.trafficlight.setRedYellowGreenState('joinedS_63','rrrrrrrrrrrrrrrrrrrrrrrrrrrr') # Modify the abnormal timing of the traffic light signal\n",
    " \n",
    "    # traci.simulationStep()\n",
    "    # step += 1\n"
   ]
  },
  {
   "cell_type": "code",
   "execution_count": null,
   "metadata": {},
   "outputs": [],
   "source": []
  }
 ],
 "metadata": {
  "kernelspec": {
   "display_name": "Python 3",
   "language": "python",
   "name": "python3"
  },
  "language_info": {
   "codemirror_mode": {
    "name": "ipython",
    "version": 3
   },
   "file_extension": ".py",
   "mimetype": "text/x-python",
   "name": "python",
   "nbconvert_exporter": "python",
   "pygments_lexer": "ipython3",
   "version": "3.7.3"
  }
 },
 "nbformat": 4,
 "nbformat_minor": 2
}
