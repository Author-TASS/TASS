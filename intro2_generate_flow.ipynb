{
 "cells": [
  {
   "cell_type": "markdown",
   "metadata": {},
   "source": [
    "# Generate flow\n",
    "The core of simulation is the reproduction and intervention of traffic demand, that is, the data and related information of traffic flow. In SUMO, traffic demands can be defined as individual vehicle flows and routes. Basic information should include departure time, departure place, destination and mode of access, which can be different types of vehicles or pedestrians. When traffic needs are defined as routes, information about origin and destination is not mandatory. \n",
    "\n",
    "Once the traffic demand is generated, the traffic distribution procedures in SUMO can be executed, including DUAROUTER, MAROUTER and Oneshot. The above allocation methods are different under different allocation principles such as User Equalization (UE), Random User Equalization (SUE) or the fastest path for a given departure time. The final traffic requirements are stored in the form of xml files. Similarly, we can also directly modify the xml file to set the traffic requirements we need. The interaction between the vehicles is set by the car-following model and the lane-changing model. The Krauss model is used by default, and researchers can also use IDM, IDMM, ACC, CACC and other car-following models, or LC2013, SL2015 and other lane-changing models according to their needs."
   ]
  },
  {
   "cell_type": "markdown",
   "metadata": {},
   "source": [
    "## Get lane/edge ID of target flow\n",
    "1. Run <SUMO_HOME>/bin/netedit.exe\n",
    "2. Click File -> Open Network and select the corresponding osm.net.xml file\n",
    "3. Select Inspect (as shown below), click the target lane, and you can get its ID on the left panel\n",
    "4. Save and exit\n",
    "\n",
    "- Note 1: Rename the ID of the target road to a form that is easy to remember, such as: \"in + number\", in1\n",
    "- Note 2: Run build.bat to ensure that the generated trip file contains the correct edge ID"
   ]
  },
  {
   "cell_type": "markdown",
   "metadata": {},
   "source": [
    "## Traffic flow injection"
   ]
  },
  {
   "cell_type": "markdown",
   "metadata": {},
   "source": [
    "Configure the target road to inject traffic and the number of vehicles"
   ]
  },
  {
   "cell_type": "code",
   "execution_count": 125,
   "metadata": {
    "code_folding": []
   },
   "outputs": [],
   "source": [
    "##################################\n",
    "# configuration parameters\n",
    "##################################\n",
    "# Simulation file path\n",
    "folder = '../bigger demo# with sensor v2/'\n",
    "\n",
    "# Set the target road to inject traffic flow\n",
    "newTripsFrom = ['in1', 'in2', 'in3', 'in4']\n",
    "\n",
    "# Set the amount of traffic injected during the simulation\n",
    "newTripsNum = [0, 0, 0, 1000]"
   ]
  },
  {
   "cell_type": "markdown",
   "metadata": {},
   "source": [
    "Run the script to add traffic flow"
   ]
  },
  {
   "cell_type": "code",
   "execution_count": 126,
   "metadata": {},
   "outputs": [],
   "source": [
    "##################################\n",
    "# Count existing trips\n",
    "##################################\n",
    "from xml.dom import minidom\n",
    "DOMTree = minidom.parse(folder + 'osm.passenger.trips.xml')\n",
    "collection = DOMTree.documentElement\n",
    "\n",
    "# Count existing trips\n",
    "mergedTrips = collection.getElementsByTagName('trip')\n",
    "\n",
    "# get all destinations\n",
    "allDest = {}\n",
    "for trip in mergedTrips:\n",
    "     dest = trip.getAttribute('to')\n",
    "     if dest not in allDest:\n",
    "         allDest[dest] = True\n",
    "allDest = list(allDest)"
   ]
  },
  {
   "cell_type": "code",
   "execution_count": 127,
   "metadata": {},
   "outputs": [],
   "source": [
    "##################################\n",
    "# generate new trips\n",
    "##################################\n",
    "import random\n",
    "lastTrip = mergedTrips[-1]\n",
    "newId = int(lastTrip.getAttribute('id')[3:]) + 1\n",
    "endAt = float(lastTrip.getAttribute('depart'))\n",
    "\n",
    "for n in range(len(newTripsFrom)):\n",
    "    edge = newTripsFrom[n]\n",
    "    newTripNum = newTripsNum[n]\n",
    "    if newTripNum <= 0:\n",
    "        newTripNum = 1\n",
    "    for i in range(newTripNum):\n",
    "        newTrip = lastTrip.cloneNode(True)\n",
    "        newTrip.setAttribute('id', 'veh%d' % newId)\n",
    "        newTrip.setAttribute('depart', '%.2f' % ((endAt / newTripNum) * i)) # set time interval\n",
    "        newTrip.setAttribute('from', edge)\n",
    "        newTrip.setAttribute('to', random.choice(allDest))\n",
    "        newId += 1\n",
    "        mergedTrips.append(newTrip)\n",
    "        \n",
    "# After the fused trip, its part time must be arranged in ascending order\n",
    "mergedTrips = sorted(mergedTrips, key=lambda x:float(x.getAttribute('depart')), reverse=False) "
   ]
  },
  {
   "cell_type": "code",
   "execution_count": 128,
   "metadata": {},
   "outputs": [
    {
     "name": "stdout",
     "output_type": "stream",
     "text": [
      "OK\n"
     ]
    }
   ],
   "source": [
    "##################################\n",
    "# output to file\n",
    "##################################\n",
    "mergedTripCollection = collection.cloneNode(False)\n",
    "vType = collection.getElementsByTagName('vType')[0]\n",
    "mergedTripCollection.appendChild(vType)\n",
    "\n",
    "for trip in mergedTrips:\n",
    "    mergedTripCollection.appendChild(trip)\n",
    "\n",
    "# replace all previous trips\n",
    "for i in range(len(DOMTree.childNodes)):\n",
    "    node = DOMTree.childNodes[i]\n",
    "    if isinstance(node, minidom.Element):\n",
    "        DOMTree.childNodes[i] = mergedTripCollection\n",
    "\n",
    "# to file\n",
    "try:\n",
    "    with open(folder + 'test.trips.xml','w',encoding='UTF-8') as fh:\n",
    "        # The first parameter of writexml is the target file object, the second parameter is the indentation format of the root node, \n",
    "        # and the third parameter is the indentation format of other child nodes. \n",
    "        # The fourth parameter specifies the newline format, and the fifth parameter specifies the encoding of the xml content.\n",
    "        DOMTree.writexml(fh, indent='', addindent='\\t',newl='\\n',encoding='UTF-8')\n",
    "        print('OK')\n",
    "except Exception as err:\n",
    "    print('Error：{err}'.format(err=err))\n"
   ]
  }
 ],
 "metadata": {
  "kernelspec": {
   "display_name": "Python 3",
   "language": "python",
   "name": "python3"
  },
  "language_info": {
   "codemirror_mode": {
    "name": "ipython",
    "version": 3
   },
   "file_extension": ".py",
   "mimetype": "text/x-python",
   "name": "python",
   "nbconvert_exporter": "python",
   "pygments_lexer": "ipython3",
   "version": "3.7.5"
  },
  "toc": {
   "base_numbering": 1,
   "nav_menu": {},
   "number_sections": true,
   "sideBar": true,
   "skip_h1_title": false,
   "title_cell": "Table of Contents",
   "title_sidebar": "Contents",
   "toc_cell": false,
   "toc_position": {
    "height": "calc(100% - 180px)",
    "left": "10px",
    "top": "150px",
    "width": "314.182px"
   },
   "toc_section_display": true,
   "toc_window_display": true
  }
 },
 "nbformat": 4,
 "nbformat_minor": 2
}
