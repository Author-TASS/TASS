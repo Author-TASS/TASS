{
 "cells": [
  {
   "cell_type": "markdown",
   "metadata": {},
   "source": [
    "# Error propagation\n",
    "By selecting suitable upstream and downstream detectors and analyzing the data of these detectors, some abnormal propagation trends can be simply obtained."
   ]
  },
  {
   "cell_type": "code",
   "execution_count": null,
   "metadata": {},
   "outputs": [],
   "source": [
    "##################################\n",
    "# configuration parameters\n",
    "##################################\n",
    "# Simulation file path\n",
    "folder = '../bigger demo# with sensor v2/'\n",
    "\n",
    "# Define the detector sequence in order from downstream to upstream\n",
    "# upstream：\n",
    "upDetectors = ['e1det_4588220#0_0', 'e1det_-292429056#4_0', 'e1det_-389101365#4_0', 'e1det_-66071366#1_0', 'e1det_-66071366#3_0', 'e1det_-23755950#4_0', 'e1det_-4611696#3_0', 'e1det_755551646#2_0', 'e1det_625843712_0']\n",
    "detectors = upDetectors[:5]\n",
    "detectors = upDetectors[5:]\n",
    "detectors = upDetectors[5::2]\n",
    "detectors = upDetectors[::2]\n",
    "detectors = upDetectors\n",
    "\n",
    "# dowmstream:\n",
    "# detectors = ['e1det_-375311158#2_0', 'e1det_375312063#0_0', 'e1det_4611722#0_1', 'e1det_625843712_1']\n",
    "# detectors = ['e1det_-168935757#3_0', 'e1det_-4588224#2_0', 'e1det_-110785555#2_0', 'e1det_-67099789#3_0']"
   ]
  },
  {
   "cell_type": "code",
   "execution_count": null,
   "metadata": {},
   "outputs": [],
   "source": [
    "##################################\n",
    "# Statistical detector data\n",
    "##################################\n",
    "from xml.dom import minidom\n",
    "DOMTree = minidom.parse(folder + 'e1output.xml')\n",
    "collection = DOMTree.documentElement\n",
    "\n",
    "records = collection.getElementsByTagName('interval')\n",
    "flowRcds = {}\n",
    "occRcds = {}\n",
    "speedRcds = {}\n",
    "\n",
    "def insertRcd(aDict, id, str_val):\n",
    "    if id not in aDict:\n",
    "        aDict[id] = []\n",
    "    val = float(str_val)\n",
    "    aDict[id].append(val)\n",
    "\n",
    "for record in records:\n",
    "    id = record.getAttribute('id')\n",
    "    if id in detectors:\n",
    "        flow = record.getAttribute('flow')\n",
    "        occupancy = record.getAttribute('occupancy')\n",
    "        speed = record.getAttribute('speed')\n",
    "        insertRcd(flowRcds, id, flow)\n",
    "        insertRcd(occRcds, id, occupancy)\n",
    "        insertRcd(speedRcds, id, speed)"
   ]
  },
  {
   "cell_type": "code",
   "execution_count": null,
   "metadata": {},
   "outputs": [],
   "source": [
    "##################################\n",
    "# Show results 1\n",
    "##################################\n",
    "import matplotlib.pyplot as plt\n",
    "\n",
    "id = detectors[0]\n",
    "size = len(occRcds[id])\n",
    "\n",
    "for i in range(len(detectors)):\n",
    "    id = detectors[i]\n",
    "    plt.title('Occupancy %d' % i)\n",
    "    plt.plot(occRcds[id], label=i)\n",
    "    plt.ylim((0, 100))\n",
    "#     plt.show()\n",
    "plt.legend()\n",
    "plt.show()\n",
    "\n",
    "for i in range(0, len(detectors), 2):\n",
    "    id = detectors[i]\n",
    "    plt.title('Occupancy %d' % i)\n",
    "    plt.plot(occRcds[id], label=i)\n",
    "    plt.ylim((0, 100))\n",
    "#     plt.show()\n",
    "plt.legend()\n",
    "plt.show()\n",
    "\n",
    "for i in range(3, len(detectors)):\n",
    "    id = detectors[i]\n",
    "    plt.title('Occupancy %d' % i)\n",
    "    plt.plot(occRcds[id], label=i)\n",
    "    plt.ylim((0, 100))\n",
    "#     plt.show()\n",
    "plt.legend()\n",
    "plt.show()\n"
   ]
  },
  {
   "cell_type": "code",
   "execution_count": null,
   "metadata": {},
   "outputs": [],
   "source": [
    "##################################\n",
    "# Show results 2\n",
    "##################################\n",
    "import matplotlib.pyplot as plt\n",
    "\n",
    "id = detectors[0]\n",
    "size = len(occRcds[id])\n",
    "\n",
    "for i in range(len(detectors)):\n",
    "    id = detectors[i]\n",
    "    plt.title('Flow %d' % i)\n",
    "    plt.plot(flowRcds[id], label=i)\n",
    "    plt.ylim((0, 1500))\n",
    "    #     plt.show()\n",
    "plt.legend()\n",
    "plt.show()"
   ]
  },
  {
   "cell_type": "code",
   "execution_count": null,
   "metadata": {},
   "outputs": [],
   "source": [
    "##################################\n",
    "# Show results 3\n",
    "##################################\n",
    "import matplotlib.pyplot as plt\n",
    "\n",
    "id = detectors[0]\n",
    "size = len(occRcds[id])\n",
    "\n",
    "for i in range(len(detectors)):\n",
    "    id = detectors[i]\n",
    "    plt.title('Speed %d' % i)\n",
    "    plt.plot(speedRcds[id], label=i)\n",
    "    plt.ylim((0, 15))\n",
    "    #     plt.show()\n",
    "plt.legend()\n",
    "plt.show()"
   ]
  },
  {
   "cell_type": "code",
   "execution_count": null,
   "metadata": {},
   "outputs": [],
   "source": []
  }
 ],
 "metadata": {
  "kernelspec": {
   "display_name": "Python 3",
   "language": "python",
   "name": "python3"
  },
  "language_info": {
   "codemirror_mode": {
    "name": "ipython",
    "version": 3
   },
   "file_extension": ".py",
   "mimetype": "text/x-python",
   "name": "python",
   "nbconvert_exporter": "python",
   "pygments_lexer": "ipython3",
   "version": "3.7.3"
  }
 },
 "nbformat": 4,
 "nbformat_minor": 2
}
