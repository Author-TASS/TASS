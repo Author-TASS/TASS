{
 "cells": [
  {
   "cell_type": "markdown",
   "metadata": {},
   "source": [
    "# Detector configuration\n",
    "Detector generation can also be done using automatic generation and manual configuration, respectively."
   ]
  },
  {
   "cell_type": "markdown",
   "metadata": {},
   "source": [
    "## Automatic generation\n",
    "The configurable content of the automation script includes: sensor location, sampling period, output file path, etc. You can also configure the sensor information in detectors.add.xml with a script according to your own needs."
   ]
  },
  {
   "cell_type": "code",
   "execution_count": null,
   "metadata": {},
   "outputs": [],
   "source": [
    "python \"%SUMO_HOME%\\tools\\output\\generateTLSE1Detectors.py\" -n osm.net.xml -o detectors.add.xml -d 0.5 -f 120\n",
    "# Note: After the road name is changed, the above script needs to be re-run to ensure that the sensor is correctly added to the road."
   ]
  },
  {
   "cell_type": "markdown",
   "metadata": {},
   "source": [
    "## Modify the simulation configuration file\n",
    "Replace \"osm.poly.xml\" (auto-generated POI configuration) with \"detectors.add.xml\" (sensor configuration) in the additional-files of osm.sumocfg"
   ]
  },
  {
   "cell_type": "markdown",
   "metadata": {},
   "source": [
    "## Data output\n",
    "After running the simulation, the generated detector data is saved by default in e1output.xml under the same path as osm.sumocfg"
   ]
  }
 ],
 "metadata": {
  "kernelspec": {
   "display_name": "Python 3",
   "language": "python",
   "name": "python3"
  },
  "language_info": {
   "codemirror_mode": {
    "name": "ipython",
    "version": 3
   },
   "file_extension": ".py",
   "mimetype": "text/x-python",
   "name": "python",
   "nbconvert_exporter": "python",
   "pygments_lexer": "ipython3",
   "version": "3.7.3"
  }
 },
 "nbformat": 4,
 "nbformat_minor": 2
}
